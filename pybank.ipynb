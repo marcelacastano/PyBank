{
 "cells": [
  {
   "cell_type": "markdown",
   "metadata": {},
   "source": [
    "# PyBank"
   ]
  },
  {
   "cell_type": "code",
   "execution_count": 5,
   "metadata": {},
   "outputs": [],
   "source": [
    "# Import the necessary libraries for reading CSV files and manipulating data sets\n",
    "\n",
    "import pandas as pd\n",
    "from pathlib import Path\n",
    "import numpy as np"
   ]
  },
  {
   "cell_type": "code",
   "execution_count": 8,
   "metadata": {},
   "outputs": [],
   "source": [
    "# Set the path for the CSV file\n",
    "path = Path(\"resources/budget_data.csv\")"
   ]
  },
  {
   "cell_type": "code",
   "execution_count": 9,
   "metadata": {},
   "outputs": [
    {
     "data": {
      "text/html": [
       "<div>\n",
       "<style scoped>\n",
       "    .dataframe tbody tr th:only-of-type {\n",
       "        vertical-align: middle;\n",
       "    }\n",
       "\n",
       "    .dataframe tbody tr th {\n",
       "        vertical-align: top;\n",
       "    }\n",
       "\n",
       "    .dataframe thead th {\n",
       "        text-align: right;\n",
       "    }\n",
       "</style>\n",
       "<table border=\"1\" class=\"dataframe\">\n",
       "  <thead>\n",
       "    <tr style=\"text-align: right;\">\n",
       "      <th></th>\n",
       "      <th>Date</th>\n",
       "      <th>Profit/Losses</th>\n",
       "    </tr>\n",
       "  </thead>\n",
       "  <tbody>\n",
       "    <tr>\n",
       "      <th>0</th>\n",
       "      <td>Jan-2010</td>\n",
       "      <td>867884</td>\n",
       "    </tr>\n",
       "    <tr>\n",
       "      <th>1</th>\n",
       "      <td>Feb-2010</td>\n",
       "      <td>984655</td>\n",
       "    </tr>\n",
       "    <tr>\n",
       "      <th>2</th>\n",
       "      <td>Mar-2010</td>\n",
       "      <td>322013</td>\n",
       "    </tr>\n",
       "    <tr>\n",
       "      <th>3</th>\n",
       "      <td>Apr-2010</td>\n",
       "      <td>-69417</td>\n",
       "    </tr>\n",
       "    <tr>\n",
       "      <th>4</th>\n",
       "      <td>May-2010</td>\n",
       "      <td>310503</td>\n",
       "    </tr>\n",
       "  </tbody>\n",
       "</table>\n",
       "</div>"
      ],
      "text/plain": [
       "       Date  Profit/Losses\n",
       "0  Jan-2010         867884\n",
       "1  Feb-2010         984655\n",
       "2  Mar-2010         322013\n",
       "3  Apr-2010         -69417\n",
       "4  May-2010         310503"
      ]
     },
     "execution_count": 9,
     "metadata": {},
     "output_type": "execute_result"
    }
   ],
   "source": [
    "# Read the CSV into a dataframe using Pandas and print the first 5 rows\n",
    "budget_df = pd.read_csv(path)\n",
    "budget_df.head()\n"
   ]
  },
  {
   "cell_type": "code",
   "execution_count": 10,
   "metadata": {},
   "outputs": [
    {
     "name": "stdout",
     "output_type": "stream",
     "text": [
      "86\n"
     ]
    }
   ],
   "source": [
    "# Calculate the total number of months in the data set\n",
    "\n",
    "# Use conditional statement to check for duplicates in the data set\n",
    "# If there are any duplicates, they will be dropped before calculating the number of months\n",
    "\n",
    "if budget_df.duplicated().all == False:\n",
    "    num_months = budget_df['Date'].count()\n",
    "    print(num_months) \n",
    "else:\n",
    "    budget_df = budget_df.drop_duplicates().copy()\n",
    "    num_months = budget_df['Date'].count()\n",
    "    print(num_months) "
   ]
  },
  {
   "cell_type": "code",
   "execution_count": 27,
   "metadata": {},
   "outputs": [
    {
     "name": "stdout",
     "output_type": "stream",
     "text": [
      "$38,382,578.00\n"
     ]
    }
   ],
   "source": [
    "# Calculate the net total amount of Profit/Losses over the entire period\n",
    "\n",
    "total_profit_losses = \"${:,.2f}\".format(budget_df['Profit/Losses'].sum())\n",
    "print(total_profit_losses)"
   ]
  },
  {
   "cell_type": "code",
   "execution_count": 28,
   "metadata": {},
   "outputs": [
    {
     "name": "stdout",
     "output_type": "stream",
     "text": [
      "$-2,315.12\n"
     ]
    }
   ],
   "source": [
    "# Calculate the average of the changes in Profit/Losses over the entire period\n",
    "\n",
    "# Extract values of Profit/Losses dataframe series into a list\n",
    "profit_losses = budget_df['Profit/Losses'].tolist()\n",
    "\n",
    "# Generate a list of monthly changes in profit/losses\n",
    "# A profit/loss difference for the first month can't be calculated therefore the loop must iterate for one less element\n",
    "monthly_changes=[]\n",
    "for month_diff in range(len(profit_losses)-1): \n",
    "    monthly_changes.append(profit_losses[month_diff + 1] - profit_losses[month_diff])\n",
    "\n",
    "# Calculate the average of the monthly changes and round to two decimal places\n",
    "avg_monthly_changes = \"${:,.2f}\".format(round((sum(monthly_changes) / len(monthly_changes)),2))\n",
    "print(avg_monthly_changes)"
   ]
  },
  {
   "cell_type": "code",
   "execution_count": 29,
   "metadata": {},
   "outputs": [
    {
     "name": "stderr",
     "output_type": "stream",
     "text": [
      "C:\\Users\\Grep\\AppData\\Local\\Temp/ipykernel_27048/2639429991.py:12: SettingWithCopyWarning: \n",
      "A value is trying to be set on a copy of a slice from a DataFrame\n",
      "\n",
      "See the caveats in the documentation: https://pandas.pydata.org/pandas-docs/stable/user_guide/indexing.html#returning-a-view-versus-a-copy\n",
      "  budget_df['Monthly Changes'][i] = 0  #sets the monthly change for row 0 equal to 0\n",
      "C:\\Users\\Grep\\AppData\\Local\\Temp/ipykernel_27048/2639429991.py:14: SettingWithCopyWarning: \n",
      "A value is trying to be set on a copy of a slice from a DataFrame\n",
      "\n",
      "See the caveats in the documentation: https://pandas.pydata.org/pandas-docs/stable/user_guide/indexing.html#returning-a-view-versus-a-copy\n",
      "  budget_df['Monthly Changes'][i] = monthly_changes[i-1] #sets the monthly change for all other rows equal to the monthly change value\n"
     ]
    },
    {
     "data": {
      "text/html": [
       "<div>\n",
       "<style scoped>\n",
       "    .dataframe tbody tr th:only-of-type {\n",
       "        vertical-align: middle;\n",
       "    }\n",
       "\n",
       "    .dataframe tbody tr th {\n",
       "        vertical-align: top;\n",
       "    }\n",
       "\n",
       "    .dataframe thead th {\n",
       "        text-align: right;\n",
       "    }\n",
       "</style>\n",
       "<table border=\"1\" class=\"dataframe\">\n",
       "  <thead>\n",
       "    <tr style=\"text-align: right;\">\n",
       "      <th></th>\n",
       "      <th>Date</th>\n",
       "      <th>Profit/Losses</th>\n",
       "      <th>Monthly Changes</th>\n",
       "    </tr>\n",
       "  </thead>\n",
       "  <tbody>\n",
       "    <tr>\n",
       "      <th>0</th>\n",
       "      <td>Jan-2010</td>\n",
       "      <td>867884</td>\n",
       "      <td>0</td>\n",
       "    </tr>\n",
       "    <tr>\n",
       "      <th>1</th>\n",
       "      <td>Feb-2010</td>\n",
       "      <td>984655</td>\n",
       "      <td>116771</td>\n",
       "    </tr>\n",
       "    <tr>\n",
       "      <th>2</th>\n",
       "      <td>Mar-2010</td>\n",
       "      <td>322013</td>\n",
       "      <td>-662642</td>\n",
       "    </tr>\n",
       "    <tr>\n",
       "      <th>3</th>\n",
       "      <td>Apr-2010</td>\n",
       "      <td>-69417</td>\n",
       "      <td>-391430</td>\n",
       "    </tr>\n",
       "    <tr>\n",
       "      <th>4</th>\n",
       "      <td>May-2010</td>\n",
       "      <td>310503</td>\n",
       "      <td>379920</td>\n",
       "    </tr>\n",
       "    <tr>\n",
       "      <th>...</th>\n",
       "      <td>...</td>\n",
       "      <td>...</td>\n",
       "      <td>...</td>\n",
       "    </tr>\n",
       "    <tr>\n",
       "      <th>81</th>\n",
       "      <td>Oct-2016</td>\n",
       "      <td>102685</td>\n",
       "      <td>-665765</td>\n",
       "    </tr>\n",
       "    <tr>\n",
       "      <th>82</th>\n",
       "      <td>Nov-2016</td>\n",
       "      <td>795914</td>\n",
       "      <td>693229</td>\n",
       "    </tr>\n",
       "    <tr>\n",
       "      <th>83</th>\n",
       "      <td>Dec-2016</td>\n",
       "      <td>60988</td>\n",
       "      <td>-734926</td>\n",
       "    </tr>\n",
       "    <tr>\n",
       "      <th>84</th>\n",
       "      <td>Jan-2017</td>\n",
       "      <td>138230</td>\n",
       "      <td>77242</td>\n",
       "    </tr>\n",
       "    <tr>\n",
       "      <th>85</th>\n",
       "      <td>Feb-2017</td>\n",
       "      <td>671099</td>\n",
       "      <td>532869</td>\n",
       "    </tr>\n",
       "  </tbody>\n",
       "</table>\n",
       "<p>86 rows × 3 columns</p>\n",
       "</div>"
      ],
      "text/plain": [
       "        Date  Profit/Losses Monthly Changes\n",
       "0   Jan-2010         867884               0\n",
       "1   Feb-2010         984655          116771\n",
       "2   Mar-2010         322013         -662642\n",
       "3   Apr-2010         -69417         -391430\n",
       "4   May-2010         310503          379920\n",
       "..       ...            ...             ...\n",
       "81  Oct-2016         102685         -665765\n",
       "82  Nov-2016         795914          693229\n",
       "83  Dec-2016          60988         -734926\n",
       "84  Jan-2017         138230           77242\n",
       "85  Feb-2017         671099          532869\n",
       "\n",
       "[86 rows x 3 columns]"
      ]
     },
     "execution_count": 29,
     "metadata": {},
     "output_type": "execute_result"
    }
   ],
   "source": [
    "# Calculate the greatest increase in profits (date and amount) over the entire period\n",
    "\n",
    "# Add a new column to the dataframe with the results for the monthly_changes\n",
    "# Note that the first month would not have a value for monthly_changes, so a 0 will be added instead\n",
    "\n",
    "budget_df['Monthly Changes'] = \"\"  #adds a new empty column to the dataframe\n",
    "\n",
    "month_change = []\n",
    "\n",
    "for i in range(len(budget_df)):  #iterates over the length of the dataframe\n",
    "    if i == 0:\n",
    "        budget_df['Monthly Changes'][i] = 0  #sets the monthly change for row 0 equal to 0  \n",
    "    else:\n",
    "        budget_df['Monthly Changes'][i] = monthly_changes[i-1] #sets the monthly change for all other rows equal to the monthly change value\n",
    "\n",
    "budget_df\n",
    "\n",
    "# CONTINUED in next cell"
   ]
  },
  {
   "cell_type": "code",
   "execution_count": 30,
   "metadata": {},
   "outputs": [
    {
     "name": "stdout",
     "output_type": "stream",
     "text": [
      "Feb-2012 $1,926,159.00\n"
     ]
    }
   ],
   "source": [
    "## CONTINUED: Calculate the greatest increase in profits (date and amount) over the entire period\n",
    "\n",
    "# Create empty dictionary to populate with Date and Monthly Changes data from dataframe\n",
    "short_budget = {}\n",
    "\n",
    "# Extract values for Date and Monthly Changes from dataframe into lists\n",
    "months = budget_df['Date'].tolist() # generated a list for the 'Date' series in dataframe with just the values\n",
    "changes = budget_df['Monthly Changes'].tolist() # generated a ist for the 'Monthly Changes' series in dataframe with just the vaues\n",
    "short_budget = dict(zip(months, changes)) # used zip to create a dictionary from two lists\n",
    "\n",
    "# Calculate the greatest increase in profits (date and amount) over the entire period\n",
    "greatest_increase_key = max(short_budget, key = short_budget.get) #obtains the key with the highest value in dictionary\n",
    "greatest_increase_value = \"${:,.2f}\".format(max(short_budget.values())) #obtains the highest value in dictionary\n",
    "greatest_increase = print(f\"{greatest_increase_key} {greatest_increase_value}\")"
   ]
  },
  {
   "cell_type": "code",
   "execution_count": 31,
   "metadata": {},
   "outputs": [
    {
     "name": "stdout",
     "output_type": "stream",
     "text": [
      "Sep-2013 $-2,196,167.00\n"
     ]
    }
   ],
   "source": [
    "# Calculate the greatest decrease in losses (date and amount) over the entire period\n",
    "\n",
    "greatest_decrease_key = min(short_budget, key = short_budget.get)\n",
    "greatest_decrease_value = \"${:,.2f}\".format(min(short_budget.values()))\n",
    "greatest_decrease = print(f\"{greatest_decrease_key} {greatest_decrease_value}\")"
   ]
  },
  {
   "cell_type": "code",
   "execution_count": 34,
   "metadata": {},
   "outputs": [
    {
     "name": "stdout",
     "output_type": "stream",
     "text": [
      "Financial Analysis\n",
      "---------------------------\n",
      "Total months: 86\n",
      "Total: $38,382,578.00\n",
      "Average change: $-2,315.12 \n",
      "Greatest Increase in Profits occured in Feb-2012 ($1,926,159.00)\n",
      "Greatest Decrease in Profits occured in Sep-2013 ($-2,196,167.00)\n"
     ]
    }
   ],
   "source": [
    "# Print the analysis\n",
    "\n",
    "print(\"Financial Analysis\")\n",
    "print(\"---------------------------\")\n",
    "print(f\"Total months: {num_months}\")\n",
    "print(f\"Total: {total_profit_losses}\")\n",
    "print(f\"Average change: {avg_monthly_changes} \")\n",
    "print(f\"Greatest Increase in Profits occured in {greatest_increase_key} ({greatest_increase_value})\")\n",
    "print(f\"Greatest Decrease in Profits occured in {greatest_decrease_key} ({greatest_decrease_value})\")"
   ]
  },
  {
   "cell_type": "code",
   "execution_count": 33,
   "metadata": {},
   "outputs": [],
   "source": [
    "# Export the analysis to a text file that contains the final results\n",
    "\n",
    "# Set output file name\n",
    "output_path = 'output.txt'\n",
    "\n",
    "# Open the output path as a file object\n",
    "with open(output_path, 'w') as file:\n",
    "    file.write(\"Financial Analysis\\n\")\n",
    "    file.write(\"---------------------------\\n\")\n",
    "    file.write(f\"Total months: {num_months}\\n\")\n",
    "    file.write(f\"Total: {total_profit_losses}\\n\")\n",
    "    file.write(f\"Average change: {avg_monthly_changes}\\n\")\n",
    "    file.write(f\"Greatest Increase in Profits occured in {greatest_increase_key} ({greatest_increase_value})\\n\")\n",
    "    file.write(f\"Greatest Decrease in Profits occured in {greatest_decrease_key} ({greatest_decrease_value})\\n\")"
   ]
  },
  {
   "cell_type": "code",
   "execution_count": null,
   "metadata": {},
   "outputs": [],
   "source": []
  }
 ],
 "metadata": {
  "interpreter": {
   "hash": "1b96bea370aa25765d77d0a7c5b93f2dc962ef269c95db79ebc3fe3f05623299"
  },
  "kernelspec": {
   "display_name": "Python 3.8.8 64-bit ('FinTech': conda)",
   "name": "python3"
  },
  "language_info": {
   "codemirror_mode": {
    "name": "ipython",
    "version": 3
   },
   "file_extension": ".py",
   "mimetype": "text/x-python",
   "name": "python",
   "nbconvert_exporter": "python",
   "pygments_lexer": "ipython3",
   "version": "3.8.8"
  }
 },
 "nbformat": 4,
 "nbformat_minor": 5
}
